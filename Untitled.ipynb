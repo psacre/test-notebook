{
 "cells": [
  {
   "cell_type": "markdown",
   "id": "18365f34",
   "metadata": {},
   "source": [
    "# Good LaTeX syntax and okay in Jypyter\n",
    "\n",
    "## begin{equation} + begin{aligned}\n",
    "\n",
    "\\begin{equation}\n",
    "\\begin{aligned}\n",
    "    x + y & = z \\\\\n",
    "    x + y & = z\n",
    "\\end{aligned}\n",
    "\\end{equation}\n",
    "\n",
    "## begin{align}\n",
    "\n",
    "\\begin{align}\n",
    "    x + y & = z \\\\\n",
    "    x + y & = z\n",
    "\\end{align}\n",
    "\n",
    "## double-dollar + begin{aligned}\n",
    "\n",
    "$$\n",
    "\\begin{aligned}\n",
    "    x + y & = z \\\\\n",
    "    x + y & = z\n",
    "\\end{aligned}\n",
    "$$"
   ]
  },
  {
   "cell_type": "markdown",
   "id": "5762e996-aae5-4268-945e-bc7752031390",
   "metadata": {},
   "source": [
    "# Bad LaTeX syntax but okay in Jupyter\n",
    "\n",
    "## begin{equation}\n",
    "\n",
    "\\begin{equation}\n",
    "    x + y = z \\\\\n",
    "    x + y = z\n",
    "\\end{equation}\n",
    "\n",
    "## double-dollar\n",
    "\n",
    "$$\n",
    "    x + y  = z \\\\\n",
    "    x + y  = z\n",
    "$$\n"
   ]
  },
  {
   "cell_type": "markdown",
   "id": "848a75d5-253c-48a2-8025-20bee0071c94",
   "metadata": {},
   "source": [
    "# Bad LaTeX syntax and not okay in Jupyter\n",
    "\n",
    "## double-dollar + &\n",
    "\n",
    "$$\n",
    "    x + y  & = z \\\\\n",
    "    x + y  & = z\n",
    "$$"
   ]
  },
  {
   "cell_type": "markdown",
   "id": "d77b664d",
   "metadata": {},
   "source": [
    "# HTML text in red\n",
    "\n",
    "<span style=\"color:red\">VOTRE TEXTE ICI</span>"
   ]
  }
 ],
 "metadata": {
  "kernelspec": {
   "display_name": "Python 3 (ipykernel)",
   "language": "python",
   "name": "python3"
  },
  "language_info": {
   "codemirror_mode": {
    "name": "ipython",
    "version": 3
   },
   "file_extension": ".py",
   "mimetype": "text/x-python",
   "name": "python",
   "nbconvert_exporter": "python",
   "pygments_lexer": "ipython3",
   "version": "3.9.15"
  }
 },
 "nbformat": 4,
 "nbformat_minor": 5
}
