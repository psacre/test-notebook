{
 "cells": [
  {
   "cell_type": "markdown",
   "id": "18365f34",
   "metadata": {},
   "source": [
    "---\n",
    "# Good LaTeX syntax + okay in Jypyter + okay in Github/VS Code\n",
    "\n",
    "## begin{equation} + begin{aligned}\n",
    "\n",
    "\\begin{equation}\n",
    "\\begin{aligned}\n",
    "    x + y & = z \\\\\n",
    "    x + y & = z\n",
    "\\end{aligned}\n",
    "\\end{equation}\n",
    "\n",
    "## begin{align}\n",
    "\n",
    "\\begin{align}\n",
    "    x + y & = z \\\\\n",
    "    x + y & = z\n",
    "\\end{align}\n",
    "\n",
    "## double-dollar + begin{aligned}\n",
    "\n",
    "$$\n",
    "\\begin{aligned}\n",
    "    x + y & = z \\\\\n",
    "    x + y & = z\n",
    "\\end{aligned}\n",
    "$$"
   ]
  },
  {
   "cell_type": "markdown",
   "id": "5762e996-aae5-4268-945e-bc7752031390",
   "metadata": {},
   "source": [
    "---\n",
    "# Bad LaTeX syntax + okay in Jupyter + not okay in Github/VS Code\n",
    "\n",
    "## begin{equation}\n",
    "\n",
    "\\begin{equation}\n",
    "    x + y = z \\\\\n",
    "    x + y = z\n",
    "\\end{equation}\n",
    "\n",
    "## double-dollar\n",
    "\n",
    "$$\n",
    "    x + y  = z \\\\\n",
    "    x + y  = z\n",
    "$$\n"
   ]
  },
  {
   "cell_type": "markdown",
   "id": "848a75d5-253c-48a2-8025-20bee0071c94",
   "metadata": {},
   "source": [
    "---\n",
    "# Bad LaTeX syntax + not okay in Jupyter + not okay in Github/VS Code\n",
    "\n",
    "## double-dollar + &\n",
    "\n",
    "$$\n",
    "    x + y  & = z \\\\\n",
    "    x + y  & = z\n",
    "$$"
   ]
  },
  {
   "cell_type": "markdown",
   "id": "d77b664d",
   "metadata": {},
   "source": [
    "---\n",
    "# HTML text in red\n",
    "\n",
    "<span style=\"color:red\">Short text</span>\n",
    "\n",
    "<span style=\"color:red\">Short text with inline equation $x$</span>\n",
    "\n",
    "<span style=\"color:red\">Long text with inline equation $x$ long long long long long long long long long long long long long long long long long long long long long long long long long long long long long long long long long long long long long long long long long long long long long long long long long long long long long long long long long long long long long long long long long long long long long long long long long long</span>\n",
    "\n",
    "<span style=\"color:red\">\n",
    "    Text with new line equation\n",
    "    $$\n",
    "\\begin{aligned}\n",
    "    x + y & = z \\\\\n",
    "    x + y & = z\n",
    "\\end{aligned}\n",
    "    $$\n",
    "</span>"
   ]
  }
 ],
 "metadata": {
  "kernelspec": {
   "display_name": "Python 3 (ipykernel)",
   "language": "python",
   "name": "python3"
  },
  "language_info": {
   "codemirror_mode": {
    "name": "ipython",
    "version": 3
   },
   "file_extension": ".py",
   "mimetype": "text/x-python",
   "name": "python",
   "nbconvert_exporter": "python",
   "pygments_lexer": "ipython3",
   "version": "3.9.15"
  }
 },
 "nbformat": 4,
 "nbformat_minor": 5
}
